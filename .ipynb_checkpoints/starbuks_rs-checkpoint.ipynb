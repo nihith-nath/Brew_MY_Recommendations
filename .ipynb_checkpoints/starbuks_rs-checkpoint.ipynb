{
 "cells": [
  {
   "cell_type": "code",
   "execution_count": 1,
   "id": "c2b3cd86-ace7-493f-b3e2-202a1fd9fa8b",
   "metadata": {
    "tags": []
   },
   "outputs": [
    {
     "name": "stdout",
     "output_type": "stream",
     "text": [
      "hello meow!!\n"
     ]
    }
   ],
   "source": [
    "print(\"hello meow!!\")"
   ]
  },
  {
   "cell_type": "code",
   "execution_count": 6,
   "id": "b0f96e2c-deaf-4e14-9342-82b1372e122d",
   "metadata": {
    "tags": []
   },
   "outputs": [],
   "source": [
    "## importing all necessary libraries\n",
    "\n",
    "import pandas as pd\n",
    "\n",
    "file_path = '/Users/HP/Desktop/Starbucks_rs/starbucks_drinks.csv'\n",
    "sbdrinks_data = pd.read_csv(file_path)"
   ]
  },
  {
   "cell_type": "code",
   "execution_count": 8,
   "id": "0c82768d-4cc1-48e4-ab5e-59738aaf1e89",
   "metadata": {
    "tags": []
   },
   "outputs": [
    {
     "data": {
      "text/plain": [
       "(107, 10)"
      ]
     },
     "execution_count": 8,
     "metadata": {},
     "output_type": "execute_result"
    }
   ],
   "source": [
    "## exploring the data\n",
    "\n",
    "sbdrinks_data.shape"
   ]
  },
  {
   "cell_type": "code",
   "execution_count": 9,
   "id": "82d45c9e-a691-467d-9909-4597d18b74e2",
   "metadata": {
    "tags": []
   },
   "outputs": [
    {
     "data": {
      "text/html": [
       "<div>\n",
       "<style scoped>\n",
       "    .dataframe tbody tr th:only-of-type {\n",
       "        vertical-align: middle;\n",
       "    }\n",
       "\n",
       "    .dataframe tbody tr th {\n",
       "        vertical-align: top;\n",
       "    }\n",
       "\n",
       "    .dataframe thead th {\n",
       "        text-align: right;\n",
       "    }\n",
       "</style>\n",
       "<table border=\"1\" class=\"dataframe\">\n",
       "  <thead>\n",
       "    <tr style=\"text-align: right;\">\n",
       "      <th></th>\n",
       "      <th>490</th>\n",
       "      <th>is_hot</th>\n",
       "      <th>is_cold</th>\n",
       "      <th>is_frozen</th>\n",
       "      <th>calories</th>\n",
       "      <th>espresso_shots</th>\n",
       "      <th>non-coffee_ingreedients</th>\n",
       "      <th>is_coffee</th>\n",
       "      <th>is_tea</th>\n",
       "      <th>is_not_coffee_or_tea</th>\n",
       "    </tr>\n",
       "  </thead>\n",
       "  <tbody>\n",
       "    <tr>\n",
       "      <th>0</th>\n",
       "      <td>Americano</td>\n",
       "      <td>1</td>\n",
       "      <td>0</td>\n",
       "      <td>0</td>\n",
       "      <td>0.030612</td>\n",
       "      <td>1.000000</td>\n",
       "      <td>0.000000</td>\n",
       "      <td>1</td>\n",
       "      <td>0</td>\n",
       "      <td>0</td>\n",
       "    </tr>\n",
       "    <tr>\n",
       "      <th>1</th>\n",
       "      <td>Blended Strawberry Lemonade</td>\n",
       "      <td>0</td>\n",
       "      <td>0</td>\n",
       "      <td>1</td>\n",
       "      <td>0.387755</td>\n",
       "      <td>0.000000</td>\n",
       "      <td>0.153846</td>\n",
       "      <td>0</td>\n",
       "      <td>0</td>\n",
       "      <td>1</td>\n",
       "    </tr>\n",
       "    <tr>\n",
       "      <th>2</th>\n",
       "      <td>Blonde Vanilla Latte</td>\n",
       "      <td>1</td>\n",
       "      <td>0</td>\n",
       "      <td>0</td>\n",
       "      <td>0.510204</td>\n",
       "      <td>0.666667</td>\n",
       "      <td>0.538462</td>\n",
       "      <td>1</td>\n",
       "      <td>0</td>\n",
       "      <td>0</td>\n",
       "    </tr>\n",
       "    <tr>\n",
       "      <th>3</th>\n",
       "      <td>Caffe Latte</td>\n",
       "      <td>1</td>\n",
       "      <td>0</td>\n",
       "      <td>0</td>\n",
       "      <td>0.387755</td>\n",
       "      <td>0.666667</td>\n",
       "      <td>0.230769</td>\n",
       "      <td>1</td>\n",
       "      <td>0</td>\n",
       "      <td>0</td>\n",
       "    </tr>\n",
       "    <tr>\n",
       "      <th>4</th>\n",
       "      <td>Caffe Mocha</td>\n",
       "      <td>1</td>\n",
       "      <td>0</td>\n",
       "      <td>0</td>\n",
       "      <td>0.755102</td>\n",
       "      <td>0.666667</td>\n",
       "      <td>0.615385</td>\n",
       "      <td>1</td>\n",
       "      <td>0</td>\n",
       "      <td>0</td>\n",
       "    </tr>\n",
       "  </tbody>\n",
       "</table>\n",
       "</div>"
      ],
      "text/plain": [
       "                           490  is_hot  is_cold  is_frozen  calories  \\\n",
       "0                    Americano       1        0          0  0.030612   \n",
       "1  Blended Strawberry Lemonade       0        0          1  0.387755   \n",
       "2         Blonde Vanilla Latte       1        0          0  0.510204   \n",
       "3                  Caffe Latte       1        0          0  0.387755   \n",
       "4                  Caffe Mocha       1        0          0  0.755102   \n",
       "\n",
       "   espresso_shots  non-coffee_ingreedients  is_coffee  is_tea  \\\n",
       "0        1.000000                 0.000000          1       0   \n",
       "1        0.000000                 0.153846          0       0   \n",
       "2        0.666667                 0.538462          1       0   \n",
       "3        0.666667                 0.230769          1       0   \n",
       "4        0.666667                 0.615385          1       0   \n",
       "\n",
       "   is_not_coffee_or_tea  \n",
       "0                     0  \n",
       "1                     1  \n",
       "2                     0  \n",
       "3                     0  \n",
       "4                     0  "
      ]
     },
     "execution_count": 9,
     "metadata": {},
     "output_type": "execute_result"
    }
   ],
   "source": [
    "sbdrinks_data.head()"
   ]
  },
  {
   "cell_type": "code",
   "execution_count": 11,
   "id": "6c59b8f8-887d-4286-b97c-f9605212aee3",
   "metadata": {
    "tags": []
   },
   "outputs": [
    {
     "data": {
      "text/plain": [
       "Index(['490', 'is_hot', 'is_cold', 'is_frozen', 'calories', 'espresso_shots',\n",
       "       'non-coffee_ingreedients', 'is_coffee', 'is_tea',\n",
       "       'is_not_coffee_or_tea'],\n",
       "      dtype='object')"
      ]
     },
     "execution_count": 11,
     "metadata": {},
     "output_type": "execute_result"
    }
   ],
   "source": [
    "sbdrinks_data.columns"
   ]
  },
  {
   "cell_type": "code",
   "execution_count": null,
   "id": "c3a800c5-0637-45d7-bbdb-ba801c523896",
   "metadata": {},
   "outputs": [],
   "source": [
    "sbdrinks_data.rename(columns={'490': 'Drink_name'}, inplace=True)"
   ]
  },
  {
   "cell_type": "code",
   "execution_count": null,
   "id": "b62b1f7d-129a-4f06-a724-a2d253fd3e60",
   "metadata": {},
   "outputs": [],
   "source": []
  }
 ],
 "metadata": {
  "kernelspec": {
   "display_name": "Python 3 (ipykernel)",
   "language": "python",
   "name": "python3"
  },
  "language_info": {
   "codemirror_mode": {
    "name": "ipython",
    "version": 3
   },
   "file_extension": ".py",
   "mimetype": "text/x-python",
   "name": "python",
   "nbconvert_exporter": "python",
   "pygments_lexer": "ipython3",
   "version": "3.11.5"
  }
 },
 "nbformat": 4,
 "nbformat_minor": 5
}
